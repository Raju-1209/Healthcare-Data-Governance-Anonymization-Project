{
 "cells": [
  {
   "cell_type": "code",
   "execution_count": 9,
   "id": "145e0ebf",
   "metadata": {},
   "outputs": [
    {
     "name": "stderr",
     "output_type": "stream",
     "text": [
      "<>:6: SyntaxWarning: invalid escape sequence '\\P'\n",
      "<>:6: SyntaxWarning: invalid escape sequence '\\P'\n",
      "C:\\Users\\129ra\\AppData\\Local\\Temp\\ipykernel_49164\\653305861.py:6: SyntaxWarning: invalid escape sequence '\\P'\n",
      "  os.environ[\"GOOGLE_APPLICATION_CREDENTIALS\"] = \"C:\\Phython\\ca-hospital-project-23db597e2610.json\"\n",
      "c:\\Users\\129ra\\AppData\\Local\\Programs\\Python\\Python312\\Lib\\site-packages\\google\\cloud\\bigquery\\table.py:1957: UserWarning: BigQuery Storage module not found, fetch data with the REST endpoint instead.\n",
      "  warnings.warn(\n"
     ]
    },
    {
     "name": "stdout",
     "output_type": "stream",
     "text": [
      "✅ Anonymized file saved successfully as: anonymized_patients.csv\n"
     ]
    }
   ],
   "source": [
    "import pandas as pd\n",
    "from google.cloud import bigquery\n",
    "import os\n",
    "\n",
    "# Set path to your service account key JSON\n",
    "os.environ[\"GOOGLE_APPLICATION_CREDENTIALS\"] = \"C:\\Phython\\ca-hospital-project-23db597e2610.json\"\n",
    "\n",
    "# Initialize BigQuery client\n",
    "client = bigquery.Client()\n",
    "\n",
    "# SQL query to retrieve the patients table\n",
    "query = \"\"\"\n",
    "    SELECT * FROM `ca-hospital-project.CA_Hospital_Project.patients`\n",
    "\"\"\"\n",
    "df = client.query(query).to_dataframe()\n",
    "\n",
    "# Create a copy for anonymization\n",
    "df_anonymized = df.copy()\n",
    "\n",
    "# Mask first and last name with initials\n",
    "df_anonymized['first_name'] = df['first_name'].apply(lambda x: x[0] + '****' if pd.notnull(x) else x)\n",
    "df_anonymized['last_name'] = df['last_name'].apply(lambda x: x[0] + '****' if pd.notnull(x) else x)\n",
    "\n",
    "# Convert DOB to age groups and drop DOB & age\n",
    "df_anonymized['age_group'] = pd.cut(df['age'], bins=[0, 20, 30, 40, 50, 60, 70, 120],\n",
    "                                    labels=['0-20', '21-30', '31-40', '41-50', '51-60', '61-70', '71+'])\n",
    "df_anonymized.drop(columns=['dob', 'age'], inplace=True)\n",
    "\n",
    "# Mask email addresses\n",
    "if 'email' in df.columns:\n",
    "    df_anonymized['email'] = df['email'].apply(lambda x: x[:2] + '****@***.com' if pd.notnull(x) and len(x) > 5 else x)\n",
    "\n",
    "# Mask phone numbers\n",
    "if 'phone' in df.columns:\n",
    "    df_anonymized['phone'] = df['phone'].apply(lambda x: '****' + x[-3:] if pd.notnull(x) and len(x) >= 3 else x)\n",
    "\n",
    "# Truncate ZIP code\n",
    "if 'zip' in df.columns:\n",
    "    df_anonymized['zip'] = df['zip'].apply(lambda x: int(str(x)[:3]) if pd.notnull(x) else x)\n",
    "\n",
    "# Drop detailed address\n",
    "if 'address' in df.columns:\n",
    "    df_anonymized.drop(columns=['address'], inplace=True)\n",
    "\n",
    "# Save the anonymized dataset locally\n",
    "output_path = \"anonymized_patients.csv\"\n",
    "df_anonymized.to_csv(output_path, index=False)\n",
    "\n",
    "print(f\"✅ Anonymized file saved successfully as: {output_path}\")"
   ]
  }
 ],
 "metadata": {
  "kernelspec": {
   "display_name": "Python 3",
   "language": "python",
   "name": "python3"
  },
  "language_info": {
   "codemirror_mode": {
    "name": "ipython",
    "version": 3
   },
   "file_extension": ".py",
   "mimetype": "text/x-python",
   "name": "python",
   "nbconvert_exporter": "python",
   "pygments_lexer": "ipython3",
   "version": "3.12.3"
  }
 },
 "nbformat": 4,
 "nbformat_minor": 5
}
